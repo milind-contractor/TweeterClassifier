{
 "cells": [
  {
   "cell_type": "code",
   "execution_count": 30,
   "metadata": {},
   "outputs": [],
   "source": [
    "try:\n",
    "    import json\n",
    "except ImportError:\n",
    "    import simplejson as json\n",
    "\n",
    "# Import the tweepy library\n",
    "import tweepy\n",
    "import csv\n",
    "\n",
    "# Variables that contains the user credentials to access Twitter API \n",
    "ACCESS_TOKEN = '841391960-0tbN4eZm9J8HG4DNYvr1Pfw6DmFGSDOZU3VnaiwG'\n",
    "ACCESS_SECRET = 'jQTdTsq7EdrnQx9NkniIoQa0HQSIZRgvTEsnqAO08U9Z4'\n",
    "CONSUMER_KEY = 'eLgh0mtAHCjC47oQoWHt290oF'\n",
    "CONSUMER_SECRET = '67CQtjlGlW6HgYVEffNCFHfylsfsp6mX5fcaphHrV08jBku9SE'"
   ]
  },
  {
   "cell_type": "code",
   "execution_count": 31,
   "metadata": {},
   "outputs": [],
   "source": [
    "auth = tweepy.OAuthHandler(CONSUMER_KEY, CONSUMER_SECRET)\n",
    "auth.set_access_token(ACCESS_TOKEN, ACCESS_SECRET)\n",
    "api = tweepy.API(auth, wait_on_rate_limit=True, wait_on_rate_limit_notify=True, compression=True)"
   ]
  },
  {
   "cell_type": "code",
   "execution_count": 32,
   "metadata": {},
   "outputs": [],
   "source": [
    "def writeIntoFile(tweets) :\n",
    "    \n",
    "    csv.register_dialect('myDialect',quoting=csv.QUOTE_ALL,skipinitialspace=True)\n",
    "    \n",
    "    with open('people.csv', 'w') as writeFile:\n",
    "        writer = csv.writer(writeFile,dialect='myDialect')\n",
    "        writer.writerows(tweets)\n",
    "\n",
    "    writeFile.close()"
   ]
  },
  {
   "cell_type": "code",
   "execution_count": 35,
   "metadata": {},
   "outputs": [],
   "source": [
    "def getTweetFromTwitter(hashTag,classification):\n",
    "    tweetsToWrite = []\n",
    "    for status in tweepy.Cursor(api.search,q=hashTag,count=20,\n",
    "                           lang=\"en\").items():\n",
    "        tweet = status._json\n",
    "        if 'text' in tweet: # only messages contains 'text' field is a tweet\n",
    "            tweetfromHashTag = [str(tweet['id']), tweet['text'],classification]\n",
    "            tweetsToWrite.append(tweetfromHashTag)\n",
    "            \n",
    "    if tweetsToWrite.count != 0:\n",
    "        writeIntoFile(tweetsToWrite)"
   ]
  },
  {
   "cell_type": "code",
   "execution_count": 36,
   "metadata": {},
   "outputs": [
    {
     "ename": "UnboundLocalError",
     "evalue": "local variable 'tweetsToWrite' referenced before assignment",
     "output_type": "error",
     "traceback": [
      "\u001b[1;31m---------------------------------------------------------------------------\u001b[0m",
      "\u001b[1;31mUnboundLocalError\u001b[0m                         Traceback (most recent call last)",
      "\u001b[1;32m<ipython-input-36-4d5f5d070f9e>\u001b[0m in \u001b[0;36m<module>\u001b[1;34m\u001b[0m\n\u001b[1;32m----> 1\u001b[1;33m \u001b[0mgetTweetFromTwitter\u001b[0m\u001b[1;33m(\u001b[0m\u001b[1;34m\"#moenylaundering\"\u001b[0m\u001b[1;33m,\u001b[0m\u001b[1;34m\"Fraud\"\u001b[0m\u001b[1;33m)\u001b[0m\u001b[1;33m\u001b[0m\u001b[1;33m\u001b[0m\u001b[0m\n\u001b[0m",
      "\u001b[1;32m<ipython-input-35-263561c153ca>\u001b[0m in \u001b[0;36mgetTweetFromTwitter\u001b[1;34m(hashTag, classification)\u001b[0m\n\u001b[0;32m      7\u001b[0m             \u001b[0mtweetfromHashTag\u001b[0m \u001b[1;33m=\u001b[0m \u001b[1;33m[\u001b[0m\u001b[0mstr\u001b[0m\u001b[1;33m(\u001b[0m\u001b[0mtweet\u001b[0m\u001b[1;33m[\u001b[0m\u001b[1;34m'id'\u001b[0m\u001b[1;33m]\u001b[0m\u001b[1;33m)\u001b[0m\u001b[1;33m,\u001b[0m \u001b[0mtweet\u001b[0m\u001b[1;33m[\u001b[0m\u001b[1;34m'text'\u001b[0m\u001b[1;33m]\u001b[0m\u001b[1;33m,\u001b[0m\u001b[0mclassification\u001b[0m\u001b[1;33m]\u001b[0m\u001b[1;33m\u001b[0m\u001b[1;33m\u001b[0m\u001b[0m\n\u001b[0;32m      8\u001b[0m             \u001b[0mtweetsToWrite\u001b[0m\u001b[1;33m.\u001b[0m\u001b[0mappend\u001b[0m\u001b[1;33m(\u001b[0m\u001b[0mtweetfromHashTag\u001b[0m\u001b[1;33m)\u001b[0m\u001b[1;33m\u001b[0m\u001b[1;33m\u001b[0m\u001b[0m\n\u001b[1;32m----> 9\u001b[1;33m     \u001b[1;32mif\u001b[0m \u001b[0mtweetsToWrite\u001b[0m\u001b[1;33m.\u001b[0m\u001b[0mcount\u001b[0m \u001b[1;33m!=\u001b[0m \u001b[1;36m0\u001b[0m\u001b[1;33m:\u001b[0m\u001b[1;33m\u001b[0m\u001b[1;33m\u001b[0m\u001b[0m\n\u001b[0m\u001b[0;32m     10\u001b[0m         \u001b[0mwriteIntoFile\u001b[0m\u001b[1;33m(\u001b[0m\u001b[0mtweetsToWrite\u001b[0m\u001b[1;33m)\u001b[0m\u001b[1;33m\u001b[0m\u001b[1;33m\u001b[0m\u001b[0m\n",
      "\u001b[1;31mUnboundLocalError\u001b[0m: local variable 'tweetsToWrite' referenced before assignment"
     ]
    }
   ],
   "source": [
    "getTweetFromTwitter(\"#moenylaundering\",\"Fraud\")"
   ]
  },
  {
   "cell_type": "code",
   "execution_count": null,
   "metadata": {},
   "outputs": [],
   "source": []
  }
 ],
 "metadata": {
  "kernelspec": {
   "display_name": "Python 3",
   "language": "python",
   "name": "python3"
  },
  "language_info": {
   "codemirror_mode": {
    "name": "ipython",
    "version": 3
   },
   "file_extension": ".py",
   "mimetype": "text/x-python",
   "name": "python",
   "nbconvert_exporter": "python",
   "pygments_lexer": "ipython3",
   "version": "3.7.3"
  }
 },
 "nbformat": 4,
 "nbformat_minor": 2
}
