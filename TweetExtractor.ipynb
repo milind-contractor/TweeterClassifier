{
 "cells": [
  {
   "cell_type": "code",
   "execution_count": 1,
   "metadata": {},
   "outputs": [],
   "source": [
    "try:\n",
    "    import json\n",
    "except ImportError:\n",
    "    import simplejson as json\n",
    "\n",
    "# Import the tweepy library\n",
    "import tweepy\n",
    "import csv\n",
    "\n",
    "# Variables that contains the user credentials to access Twitter API \n",
    "ACCESS_TOKEN = '841391960-0tbN4eZm9J8HG4DNYvr1Pfw6DmFGSDOZU3VnaiwG'\n",
    "ACCESS_SECRET = 'jQTdTsq7EdrnQx9NkniIoQa0HQSIZRgvTEsnqAO08U9Z4'\n",
    "CONSUMER_KEY = 'eLgh0mtAHCjC47oQoWHt290oF'\n",
    "CONSUMER_SECRET = '67CQtjlGlW6HgYVEffNCFHfylsfsp6mX5fcaphHrV08jBku9SE'"
   ]
  },
  {
   "cell_type": "code",
   "execution_count": 2,
   "metadata": {},
   "outputs": [],
   "source": [
    "auth = tweepy.OAuthHandler(CONSUMER_KEY, CONSUMER_SECRET)\n",
    "auth.set_access_token(ACCESS_TOKEN, ACCESS_SECRET)\n",
    "api = tweepy.API(auth, wait_on_rate_limit=True, wait_on_rate_limit_notify=True, compression=True)"
   ]
  },
  {
   "cell_type": "code",
   "execution_count": 6,
   "metadata": {},
   "outputs": [],
   "source": [
    "def writeIntoFile(tweets,fileName) :\n",
    "    \n",
    "    csv.register_dialect('myDialect',quoting=csv.QUOTE_ALL,skipinitialspace=True)\n",
    "    \n",
    "    with open(fileName + '.csv', 'w') as writeFile:\n",
    "        writer = csv.writer(writeFile,dialect='myDialect')\n",
    "        writer.writerows(tweets)\n",
    "\n",
    "    writeFile.close()"
   ]
  },
  {
   "cell_type": "code",
   "execution_count": 7,
   "metadata": {},
   "outputs": [],
   "source": [
    "def getTweetFromTwitter(hashTag,classification):\n",
    "    tweetsToWrite = []\n",
    "    for status in tweepy.Cursor(api.search,q=hashTag,count=20,\n",
    "                           lang=\"en\").items():\n",
    "        tweet = status._json\n",
    "        if 'text' in tweet: # only messages contains 'text' field is a tweet\n",
    "            tweetfromHashTag = [str(tweet['id']), tweet['text'].encode(\"utf-8\"),classification]\n",
    "            tweetsToWrite.append(tweetfromHashTag)\n",
    "            \n",
    "    if tweetsToWrite.count != 0:\n",
    "        writeIntoFile(tweetsToWrite,classification)"
   ]
  },
  {
   "cell_type": "code",
   "execution_count": 9,
   "metadata": {},
   "outputs": [
    {
     "name": "stderr",
     "output_type": "stream",
     "text": [
      "Rate limit reached. Sleeping for: 691\n"
     ]
    }
   ],
   "source": [
    "getTweetFromTwitter(\"#profit\",\"profit\")"
   ]
  },
  {
   "cell_type": "code",
   "execution_count": null,
   "metadata": {},
   "outputs": [],
   "source": []
  }
 ],
 "metadata": {
  "kernelspec": {
   "display_name": "Python 3",
   "language": "python",
   "name": "python3"
  },
  "language_info": {
   "codemirror_mode": {
    "name": "ipython",
    "version": 3
   },
   "file_extension": ".py",
   "mimetype": "text/x-python",
   "name": "python",
   "nbconvert_exporter": "python",
   "pygments_lexer": "ipython3",
   "version": "3.7.3"
  }
 },
 "nbformat": 4,
 "nbformat_minor": 2
}
