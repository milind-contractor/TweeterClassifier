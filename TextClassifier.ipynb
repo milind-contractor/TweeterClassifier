{
 "cells": [
  {
   "cell_type": "markdown",
   "metadata": {},
   "source": [
    "### Twitter Text Classifier\n",
    "#### Step 1.\n",
    "Import Libraries \n",
    "1. Pandas: Used for structured data operations and manipulations. \n",
    "2. Numpy:Stands for numerical python. It works on n-dimensional array.\n",
    "3. nltk:\n",
    "4. sklearn:\n"
   ]
  },
  {
   "cell_type": "code",
   "execution_count": null,
   "metadata": {},
   "outputs": [],
   "source": [
    "import pandas as pd\n",
    "import numpy as np\n",
    "from nltk.tokenize import word_tokenize\n",
    "from nltk import pos_tag\n",
    "from nltk.corpus import stopwords\n",
    "from nltk.stem import WordNetLemmatizer\n",
    "from sklearn.preprocessing import LabelEncoder\n",
    "from collections import defaultdict\n",
    "from nltk.corpus import wordnet as wn\n",
    "from sklearn.feature_extraction.text import TfidfVectorizer\n",
    "from sklearn import model_selection, naive_bayes, svm\n",
    "from sklearn.metrics import accuracy_score\n",
    "\n",
    "np.random.seed(500)\n"
   ]
  },
  {
   "cell_type": "code",
   "execution_count": 3,
   "metadata": {},
   "outputs": [],
   "source": [
    "Corpus = pd.read_csv(r\"corpus.csv\",encoding='latin-1')"
   ]
  },
  {
   "cell_type": "code",
   "execution_count": 6,
   "metadata": {},
   "outputs": [],
   "source": [
    "# Step - a : Remove blank rows if any.\n",
    "Corpus['text'].dropna(inplace=True)\n",
    "# Step - b : Change all the text to lower case. This is required as python interprets 'dog' and 'DOG' differently\n",
    "Corpus['text'] = [entry.lower() for entry in Corpus['text']]\n",
    "# Step - c : Tokenization : In this each entry in the corpus will be broken into set of words\n",
    "Corpus['text']= [word_tokenize(entry) for entry in Corpus['text']]"
   ]
  },
  {
   "cell_type": "code",
   "execution_count": 10,
   "metadata": {},
   "outputs": [],
   "source": [
    "# WordNetLemmatizer requires Pos tags to understand if the word is noun or verb or adjective etc. By default it is set to Noun\n",
    "tag_map = defaultdict(lambda : wn.NOUN)\n",
    "tag_map['J'] = wn.ADJ\n",
    "tag_map['V'] = wn.VERB\n",
    "tag_map['R'] = wn.ADV\n",
    "for index,entry in enumerate(Corpus['text']):\n",
    "    # Declaring Empty List to store the words that follow the rules for this step\n",
    "    Final_words = []\n",
    "    # Initializing WordNetLemmatizer()\n",
    "    word_Lemmatized = WordNetLemmatizer()\n",
    "    # pos_tag function below will provide the 'tag' i.e if the word is Noun(N) or Verb(V) or something else.\n",
    "    for word, tag in pos_tag(entry):\n",
    "        # Below condition is to check for Stop words and consider only alphabets\n",
    "        if word not in stopwords.words('english') and word.isalpha():\n",
    "            word_Final = word_Lemmatized.lemmatize(word,tag_map[tag[0]])\n",
    "            Final_words.append(word_Final)\n",
    "    # The final processed set of words for each iteration will be stored in 'text_final'\n",
    "    Corpus.loc[index,'text_final'] = str(Final_words)"
   ]
  },
  {
   "cell_type": "code",
   "execution_count": 11,
   "metadata": {},
   "outputs": [],
   "source": [
    "Train_X, Test_X, Train_Y, Test_Y = model_selection.train_test_split(Corpus['text_final'],Corpus['label'],test_size=0.3)"
   ]
  },
  {
   "cell_type": "code",
   "execution_count": 68,
   "metadata": {},
   "outputs": [],
   "source": [
    "Encoder = LabelEncoder()\n",
    "Train_Y = Encoder.fit_transform(Train_Y)\n",
    "Test_Y = Encoder.fit_transform(Test_Y)"
   ]
  },
  {
   "cell_type": "code",
   "execution_count": 56,
   "metadata": {},
   "outputs": [],
   "source": [
    "Tfidf_vect = TfidfVectorizer(max_features=5000)\n",
    "Tfidf_vect.fit(Corpus['text_final'])\n",
    "Train_X_Tfidf = Tfidf_vect.transform(Train_X)\n",
    "Test_X_Tfidf = Tfidf_vect.transform(Test_X)"
   ]
  },
  {
   "cell_type": "code",
   "execution_count": 54,
   "metadata": {},
   "outputs": [],
   "source": [
    "a = Train_X_Tfidf.toarray()"
   ]
  },
  {
   "cell_type": "code",
   "execution_count": 65,
   "metadata": {},
   "outputs": [
    {
     "name": "stdout",
     "output_type": "stream",
     "text": [
      "  (0, 4506)\t0.3763188267807246\n",
      "  (0, 4505)\t0.15031494427382475\n",
      "  (0, 3976)\t0.35868777245753825\n",
      "  (0, 3890)\t0.2515140235472667\n",
      "  (0, 3860)\t0.2690675584422277\n",
      "  (0, 3745)\t0.34695623926050195\n",
      "  (0, 3655)\t0.2896999547088821\n",
      "  (0, 3564)\t0.29449641491430995\n",
      "  (0, 2931)\t0.229683025366997\n",
      "  (0, 1935)\t0.13406125327954532\n",
      "  (0, 1529)\t0.17761496997588844\n",
      "  (0, 521)\t0.321056290554803\n",
      "  (0, 491)\t0.12303572865008613\n",
      "  (0, 240)\t0.2448559358109696\n",
      "  (1, 4687)\t0.21384275526442909\n",
      "  (1, 4060)\t0.3566872275481094\n",
      "  (1, 3434)\t0.21279175847748263\n",
      "  (1, 3313)\t0.8157357261127677\n",
      "  (1, 2592)\t0.2173336717856602\n",
      "  (1, 1260)\t0.2074693534878867\n",
      "  (1, 604)\t0.1614401835472762\n",
      "  (2, 4734)\t0.18368024895699514\n",
      "  (2, 4625)\t0.15009324791624393\n",
      "  (2, 4466)\t0.10284196288022608\n",
      "  (2, 4191)\t0.1168175572462934\n",
      "  :\t:\n",
      "  (6998, 2523)\t0.11512525241790023\n",
      "  (6998, 2125)\t0.13650351320774795\n",
      "  (6998, 1971)\t0.07126979525506368\n",
      "  (6998, 1778)\t0.22013576217543665\n",
      "  (6998, 1746)\t0.19935227823153098\n",
      "  (6998, 1710)\t0.13509114757747032\n",
      "  (6998, 1587)\t0.135216658764585\n",
      "  (6998, 1571)\t0.18520472562254622\n",
      "  (6998, 1538)\t0.13386585823260982\n",
      "  (6998, 1533)\t0.09899799931811068\n",
      "  (6998, 1306)\t0.29572526575277436\n",
      "  (6998, 1194)\t0.23287144414689587\n",
      "  (6998, 491)\t0.36187527426182703\n",
      "  (6999, 4865)\t0.16162053232828144\n",
      "  (6999, 4136)\t0.5217385422290042\n",
      "  (6999, 3824)\t0.3649735868975402\n",
      "  (6999, 2911)\t0.16568268411504228\n",
      "  (6999, 2706)\t0.14615260074275177\n",
      "  (6999, 1971)\t0.14155242939037596\n",
      "  (6999, 1664)\t0.28173977593289695\n",
      "  (6999, 1529)\t0.17292898689607455\n",
      "  (6999, 1406)\t0.2877416804485293\n",
      "  (6999, 1246)\t0.314256617088249\n",
      "  (6999, 322)\t0.28499442233774624\n",
      "  (6999, 50)\t0.3571519291530235\n"
     ]
    }
   ],
   "source": [
    "print(Train_X_Tfidf)"
   ]
  },
  {
   "cell_type": "code",
   "execution_count": 67,
   "metadata": {},
   "outputs": [
    {
     "name": "stdout",
     "output_type": "stream",
     "text": [
      "SVM Accuracy Score ->  51.26666666666667\n"
     ]
    }
   ],
   "source": [
    "# Classifier - Algorithm - SVM\n",
    "# fit the training dataset on the classifier\n",
    "SVM = svm.SVC(C=1.0, kernel='rbf', degree=3, gamma='auto')\n",
    "SVM.fit(Train_X_Tfidf,Train_Y)\n",
    "# predict the labels on validation dataset\n",
    "predictions_SVM = SVM.predict(Test_X_Tfidf)\n",
    "# Use accuracy_score function to get the accuracy\n",
    "print(\"SVM Accuracy Score -> \",accuracy_score(predictions_SVM, Test_Y)*100)"
   ]
  },
  {
   "cell_type": "code",
   "execution_count": null,
   "metadata": {},
   "outputs": [],
   "source": []
  }
 ],
 "metadata": {
  "kernelspec": {
   "display_name": "Python 3",
   "language": "python",
   "name": "python3"
  },
  "language_info": {
   "codemirror_mode": {
    "name": "ipython",
    "version": 3
   },
   "file_extension": ".py",
   "mimetype": "text/x-python",
   "name": "python",
   "nbconvert_exporter": "python",
   "pygments_lexer": "ipython3",
   "version": "3.7.3"
  }
 },
 "nbformat": 4,
 "nbformat_minor": 2
}
